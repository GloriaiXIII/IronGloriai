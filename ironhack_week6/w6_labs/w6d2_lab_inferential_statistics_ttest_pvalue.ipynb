{
 "cells": [
  {
   "cell_type": "markdown",
   "id": "ef917108",
   "metadata": {},
   "source": [
    "# 0.Instructions"
   ]
  },
  {
   "cell_type": "markdown",
   "id": "276f53c0",
   "metadata": {},
   "source": [
    "We will have another simple example on two sample t test (pooled- when the variances are equal). But this time this is a one sided t-test.\n",
    "\n",
    "In a packing plant, a machine packs cartons with jars. It is supposed that a new machine will pack faster on the average than the machine currently used. To test that hypothesis, the times it takes each machine to pack ten cartons are recorded. The results, in seconds, are shown in the tables in the file *files_for_lab/machine.txt*. Assume that there is sufficient evidence to conduct the t test, does the data provide sufficient evidence to show if one machine is better than the other"
   ]
  },
  {
   "cell_type": "code",
   "execution_count": 1,
   "id": "bca01122",
   "metadata": {},
   "outputs": [],
   "source": [
    "import pandas as pd \n",
    "import numpy as np"
   ]
  },
  {
   "cell_type": "code",
   "execution_count": 2,
   "id": "700585c0",
   "metadata": {},
   "outputs": [],
   "source": [
    "from scipy.stats import norm \n",
    "import statistics as stats\n",
    "from scipy.stats import ttest_ind\n",
    "from scipy.stats import t\n",
    "from scipy.stats import norm\n",
    "from scipy.stats import ttest_1samp\n",
    "from scipy import stats\n",
    "import math"
   ]
  },
  {
   "cell_type": "code",
   "execution_count": 3,
   "id": "28b0e97c",
   "metadata": {},
   "outputs": [],
   "source": [
    "df = pd.read_excel(\"machine.xlsx\")"
   ]
  },
  {
   "cell_type": "markdown",
   "id": "bd69259a",
   "metadata": {},
   "source": [
    "# 1.EDA"
   ]
  },
  {
   "cell_type": "markdown",
   "id": "9025bd01",
   "metadata": {},
   "source": [
    "Explore data, standardize header names and declare variables (mean, std, etc)"
   ]
  },
  {
   "cell_type": "code",
   "execution_count": 4,
   "id": "271f8d64",
   "metadata": {},
   "outputs": [
    {
     "data": {
      "text/html": [
       "<div>\n",
       "<style scoped>\n",
       "    .dataframe tbody tr th:only-of-type {\n",
       "        vertical-align: middle;\n",
       "    }\n",
       "\n",
       "    .dataframe tbody tr th {\n",
       "        vertical-align: top;\n",
       "    }\n",
       "\n",
       "    .dataframe thead th {\n",
       "        text-align: right;\n",
       "    }\n",
       "</style>\n",
       "<table border=\"1\" class=\"dataframe\">\n",
       "  <thead>\n",
       "    <tr style=\"text-align: right;\">\n",
       "      <th></th>\n",
       "      <th>New machine</th>\n",
       "      <th>Old machine</th>\n",
       "    </tr>\n",
       "  </thead>\n",
       "  <tbody>\n",
       "    <tr>\n",
       "      <th>0</th>\n",
       "      <td>42.1</td>\n",
       "      <td>42.7</td>\n",
       "    </tr>\n",
       "    <tr>\n",
       "      <th>1</th>\n",
       "      <td>41.0</td>\n",
       "      <td>43.6</td>\n",
       "    </tr>\n",
       "    <tr>\n",
       "      <th>2</th>\n",
       "      <td>41.3</td>\n",
       "      <td>43.8</td>\n",
       "    </tr>\n",
       "    <tr>\n",
       "      <th>3</th>\n",
       "      <td>41.8</td>\n",
       "      <td>43.3</td>\n",
       "    </tr>\n",
       "    <tr>\n",
       "      <th>4</th>\n",
       "      <td>42.4</td>\n",
       "      <td>42.5</td>\n",
       "    </tr>\n",
       "    <tr>\n",
       "      <th>5</th>\n",
       "      <td>42.8</td>\n",
       "      <td>43.5</td>\n",
       "    </tr>\n",
       "    <tr>\n",
       "      <th>6</th>\n",
       "      <td>43.2</td>\n",
       "      <td>43.1</td>\n",
       "    </tr>\n",
       "    <tr>\n",
       "      <th>7</th>\n",
       "      <td>42.3</td>\n",
       "      <td>41.7</td>\n",
       "    </tr>\n",
       "    <tr>\n",
       "      <th>8</th>\n",
       "      <td>41.8</td>\n",
       "      <td>44.0</td>\n",
       "    </tr>\n",
       "    <tr>\n",
       "      <th>9</th>\n",
       "      <td>42.7</td>\n",
       "      <td>44.1</td>\n",
       "    </tr>\n",
       "  </tbody>\n",
       "</table>\n",
       "</div>"
      ],
      "text/plain": [
       "   New machine      Old machine\n",
       "0         42.1             42.7\n",
       "1         41.0             43.6\n",
       "2         41.3             43.8\n",
       "3         41.8             43.3\n",
       "4         42.4             42.5\n",
       "5         42.8             43.5\n",
       "6         43.2             43.1\n",
       "7         42.3             41.7\n",
       "8         41.8             44.0\n",
       "9         42.7             44.1"
      ]
     },
     "execution_count": 4,
     "metadata": {},
     "output_type": "execute_result"
    }
   ],
   "source": [
    "df "
   ]
  },
  {
   "cell_type": "code",
   "execution_count": 5,
   "id": "f189941a",
   "metadata": {},
   "outputs": [
    {
     "data": {
      "text/plain": [
       "['New machine', '    Old machine']"
      ]
     },
     "execution_count": 5,
     "metadata": {},
     "output_type": "execute_result"
    }
   ],
   "source": [
    "# standardize the column names because there are unnecessary spaces\n",
    "df.columns.to_list()"
   ]
  },
  {
   "cell_type": "code",
   "execution_count": 6,
   "id": "c3908424",
   "metadata": {},
   "outputs": [],
   "source": [
    "def standardize_col(col):\n",
    "    return col.lower().replace(\" \",\"\")"
   ]
  },
  {
   "cell_type": "code",
   "execution_count": 7,
   "id": "0506ecb6",
   "metadata": {},
   "outputs": [],
   "source": [
    "new_cols=[]\n",
    "for col in df.columns:\n",
    "    new_cols.append(standardize_col(col))"
   ]
  },
  {
   "cell_type": "code",
   "execution_count": 8,
   "id": "e340649a",
   "metadata": {},
   "outputs": [
    {
     "data": {
      "text/plain": [
       "['newmachine', 'oldmachine']"
      ]
     },
     "execution_count": 8,
     "metadata": {},
     "output_type": "execute_result"
    }
   ],
   "source": [
    "new_cols"
   ]
  },
  {
   "cell_type": "code",
   "execution_count": 9,
   "id": "797f7a94",
   "metadata": {},
   "outputs": [
    {
     "data": {
      "text/html": [
       "<div>\n",
       "<style scoped>\n",
       "    .dataframe tbody tr th:only-of-type {\n",
       "        vertical-align: middle;\n",
       "    }\n",
       "\n",
       "    .dataframe tbody tr th {\n",
       "        vertical-align: top;\n",
       "    }\n",
       "\n",
       "    .dataframe thead th {\n",
       "        text-align: right;\n",
       "    }\n",
       "</style>\n",
       "<table border=\"1\" class=\"dataframe\">\n",
       "  <thead>\n",
       "    <tr style=\"text-align: right;\">\n",
       "      <th></th>\n",
       "      <th>newmachine</th>\n",
       "      <th>oldmachine</th>\n",
       "    </tr>\n",
       "  </thead>\n",
       "  <tbody>\n",
       "    <tr>\n",
       "      <th>0</th>\n",
       "      <td>42.1</td>\n",
       "      <td>42.7</td>\n",
       "    </tr>\n",
       "    <tr>\n",
       "      <th>1</th>\n",
       "      <td>41.0</td>\n",
       "      <td>43.6</td>\n",
       "    </tr>\n",
       "    <tr>\n",
       "      <th>2</th>\n",
       "      <td>41.3</td>\n",
       "      <td>43.8</td>\n",
       "    </tr>\n",
       "    <tr>\n",
       "      <th>3</th>\n",
       "      <td>41.8</td>\n",
       "      <td>43.3</td>\n",
       "    </tr>\n",
       "    <tr>\n",
       "      <th>4</th>\n",
       "      <td>42.4</td>\n",
       "      <td>42.5</td>\n",
       "    </tr>\n",
       "  </tbody>\n",
       "</table>\n",
       "</div>"
      ],
      "text/plain": [
       "   newmachine  oldmachine\n",
       "0        42.1        42.7\n",
       "1        41.0        43.6\n",
       "2        41.3        43.8\n",
       "3        41.8        43.3\n",
       "4        42.4        42.5"
      ]
     },
     "execution_count": 9,
     "metadata": {},
     "output_type": "execute_result"
    }
   ],
   "source": [
    "df.columns=new_cols\n",
    "df.head()"
   ]
  },
  {
   "cell_type": "markdown",
   "id": "b1d03e6a",
   "metadata": {},
   "source": [
    "## Statistics (mean, stdev)"
   ]
  },
  {
   "cell_type": "code",
   "execution_count": 10,
   "id": "1b90dd66",
   "metadata": {},
   "outputs": [
    {
     "data": {
      "text/html": [
       "<div>\n",
       "<style scoped>\n",
       "    .dataframe tbody tr th:only-of-type {\n",
       "        vertical-align: middle;\n",
       "    }\n",
       "\n",
       "    .dataframe tbody tr th {\n",
       "        vertical-align: top;\n",
       "    }\n",
       "\n",
       "    .dataframe thead th {\n",
       "        text-align: right;\n",
       "    }\n",
       "</style>\n",
       "<table border=\"1\" class=\"dataframe\">\n",
       "  <thead>\n",
       "    <tr style=\"text-align: right;\">\n",
       "      <th></th>\n",
       "      <th>newmachine</th>\n",
       "      <th>oldmachine</th>\n",
       "    </tr>\n",
       "  </thead>\n",
       "  <tbody>\n",
       "    <tr>\n",
       "      <th>count</th>\n",
       "      <td>10.000000</td>\n",
       "      <td>10.000000</td>\n",
       "    </tr>\n",
       "    <tr>\n",
       "      <th>mean</th>\n",
       "      <td>42.140000</td>\n",
       "      <td>43.230000</td>\n",
       "    </tr>\n",
       "    <tr>\n",
       "      <th>std</th>\n",
       "      <td>0.683455</td>\n",
       "      <td>0.749889</td>\n",
       "    </tr>\n",
       "    <tr>\n",
       "      <th>min</th>\n",
       "      <td>41.000000</td>\n",
       "      <td>41.700000</td>\n",
       "    </tr>\n",
       "    <tr>\n",
       "      <th>25%</th>\n",
       "      <td>41.800000</td>\n",
       "      <td>42.800000</td>\n",
       "    </tr>\n",
       "    <tr>\n",
       "      <th>50%</th>\n",
       "      <td>42.200000</td>\n",
       "      <td>43.400000</td>\n",
       "    </tr>\n",
       "    <tr>\n",
       "      <th>75%</th>\n",
       "      <td>42.625000</td>\n",
       "      <td>43.750000</td>\n",
       "    </tr>\n",
       "    <tr>\n",
       "      <th>max</th>\n",
       "      <td>43.200000</td>\n",
       "      <td>44.100000</td>\n",
       "    </tr>\n",
       "  </tbody>\n",
       "</table>\n",
       "</div>"
      ],
      "text/plain": [
       "       newmachine  oldmachine\n",
       "count   10.000000   10.000000\n",
       "mean    42.140000   43.230000\n",
       "std      0.683455    0.749889\n",
       "min     41.000000   41.700000\n",
       "25%     41.800000   42.800000\n",
       "50%     42.200000   43.400000\n",
       "75%     42.625000   43.750000\n",
       "max     43.200000   44.100000"
      ]
     },
     "execution_count": 10,
     "metadata": {},
     "output_type": "execute_result"
    }
   ],
   "source": [
    "# describe all the data \n",
    "df.describe()"
   ]
  },
  {
   "cell_type": "code",
   "execution_count": 11,
   "id": "86a7d41a",
   "metadata": {},
   "outputs": [
    {
     "name": "stdout",
     "output_type": "stream",
     "text": [
      "Old machine sample size is:\n",
      "10\n",
      "New machine sample size is:\n",
      "10\n",
      "Total sample size is:\n",
      "20\n",
      "Sample size is:\n",
      "10\n"
     ]
    }
   ],
   "source": [
    "# define length\n",
    "new_n = len(df)\n",
    "old_n = len(df)\n",
    "totalsample_n = (old_n + new_n)\n",
    "n = len(df)\n",
    "print('Old machine sample size is:', old_n, 'New machine sample size is:', new_n, 'Total sample size is:', totalsample_n, 'Sample size is:', n, sep='\\n')"
   ]
  },
  {
   "cell_type": "code",
   "execution_count": 12,
   "id": "674e4f6b",
   "metadata": {},
   "outputs": [
    {
     "name": "stdout",
     "output_type": "stream",
     "text": [
      "New machine mean is: 42.14\n"
     ]
    }
   ],
   "source": [
    "new_mean = df.mean()['newmachine']\n",
    "print('New machine mean is:', new_mean)"
   ]
  },
  {
   "cell_type": "code",
   "execution_count": 13,
   "id": "0e9a6e0a",
   "metadata": {},
   "outputs": [
    {
     "name": "stdout",
     "output_type": "stream",
     "text": [
      "Old machine mean is: 43.23\n"
     ]
    }
   ],
   "source": [
    "old_mean = df.mean()['oldmachine']\n",
    "new_mean = df.mean()['newmachine']\n",
    "print('Old machine mean is:', round(old_mean,2)) "
   ]
  },
  {
   "cell_type": "code",
   "execution_count": 14,
   "id": "d0de07e3",
   "metadata": {},
   "outputs": [
    {
     "name": "stdout",
     "output_type": "stream",
     "text": [
      "New machine standard deviation is: 0.68\n"
     ]
    }
   ],
   "source": [
    "new_std = df.std()['newmachine']\n",
    "print('New machine standard deviation is:', round(new_std,2))"
   ]
  },
  {
   "cell_type": "code",
   "execution_count": 15,
   "id": "7515c64e",
   "metadata": {},
   "outputs": [
    {
     "name": "stdout",
     "output_type": "stream",
     "text": [
      "Old machine standard deviation is: 0.75\n"
     ]
    }
   ],
   "source": [
    "old_std = df.std()['oldmachine']\n",
    "print('Old machine standard deviation is:', round(old_std,2))"
   ]
  },
  {
   "cell_type": "markdown",
   "id": "1cc0e301",
   "metadata": {},
   "source": [
    "# 2.Degree of freedom (DOF)"
   ]
  },
  {
   "cell_type": "markdown",
   "id": "4d681d81",
   "metadata": {},
   "source": [
    "The number of samples added -2\n",
    "\n",
    "DOF = n1 + n2 - number of samples (we have two: old and new)"
   ]
  },
  {
   "cell_type": "code",
   "execution_count": 16,
   "id": "fc5a4b7d",
   "metadata": {},
   "outputs": [
    {
     "data": {
      "text/plain": [
       "18"
      ]
     },
     "execution_count": 16,
     "metadata": {},
     "output_type": "execute_result"
    }
   ],
   "source": [
    "DOF = ((new_n + old_n) - 2)\n",
    "DOF"
   ]
  },
  {
   "cell_type": "markdown",
   "id": "7e407871",
   "metadata": {},
   "source": [
    "# 3.Define the hypothesis"
   ]
  },
  {
   "cell_type": "markdown",
   "id": "de0145d4",
   "metadata": {},
   "source": [
    "**H0 Null hypothesis:** packing speed is the same for both machines, there is no improvement\n",
    "- old_speed = new_speed\n",
    "\n",
    "\n",
    "**Ha Alternative hypothesis:** there is a change, the new machine means an improvement in packing time, being the new one faster than the old one\n",
    "- old_speed < new_speed"
   ]
  },
  {
   "cell_type": "markdown",
   "id": "607373ce",
   "metadata": {},
   "source": [
    "# 4.Calculate the t-stat"
   ]
  },
  {
   "cell_type": "code",
   "execution_count": 17,
   "id": "b49fd407",
   "metadata": {},
   "outputs": [
    {
     "name": "stdout",
     "output_type": "stream",
     "text": [
      "The T-statistic is:  -3.3972\n"
     ]
    }
   ],
   "source": [
    "t_statistic= (new_mean-old_mean)/np.sqrt(((new_std**2)/n)+((old_std**2)/n))\n",
    "print('The T-statistic is: ', round(t_statistic,4))"
   ]
  },
  {
   "cell_type": "markdown",
   "id": "ed86c3f2",
   "metadata": {},
   "source": [
    "# 5.Calculate the critical value"
   ]
  },
  {
   "cell_type": "code",
   "execution_count": 18,
   "id": "0f8e20a9",
   "metadata": {},
   "outputs": [
    {
     "name": "stdout",
     "output_type": "stream",
     "text": [
      "The critical value is:  -1.6449\n"
     ]
    }
   ],
   "source": [
    "# what's the critical value - z distribution\n",
    "# 0.05 is convention \n",
    "critical_value= norm.ppf(0.05)\n",
    "print('The critical value is: ', round(critical_value,4))"
   ]
  },
  {
   "cell_type": "markdown",
   "id": "ae6fab21",
   "metadata": {},
   "source": [
    "# 6.Calculate the p value"
   ]
  },
  {
   "cell_type": "code",
   "execution_count": 19,
   "id": "1ec639e4",
   "metadata": {},
   "outputs": [
    {
     "name": "stdout",
     "output_type": "stream",
     "text": [
      "The P-value is:  0.0003\n"
     ]
    }
   ],
   "source": [
    "# it is less than 0.05?\n",
    "# p-value of 0.05 (5%) is accepted to mean the data is valid.\n",
    "pvalue = norm.cdf(t_statistic)\n",
    "print('The P-value is: ', round(pvalue,4))"
   ]
  },
  {
   "cell_type": "markdown",
   "id": "3518438a",
   "metadata": {},
   "source": [
    "# 7.Confidence intervals"
   ]
  },
  {
   "cell_type": "code",
   "execution_count": 20,
   "id": "bc8d41cd",
   "metadata": {},
   "outputs": [
    {
     "name": "stdout",
     "output_type": "stream",
     "text": [
      "The Upper CI is: 42.5147\n"
     ]
    }
   ],
   "source": [
    "# confidence interval for the new machine\n",
    "absoluteZ = abs(norm.ppf(0.05))\n",
    "upperCI = new_mean + absoluteZ*new_std/np.sqrt(n-1)\n",
    "print('The Upper CI is:', round(upperCI,4))"
   ]
  },
  {
   "cell_type": "code",
   "execution_count": 21,
   "id": "83da2b1c",
   "metadata": {},
   "outputs": [
    {
     "name": "stdout",
     "output_type": "stream",
     "text": [
      "The Lower CI is: 41.7653\n"
     ]
    }
   ],
   "source": [
    "lowerCI = new_mean - absoluteZ*new_std/math.sqrt(n-1)\n",
    "print('The Lower CI is:', round(lowerCI,4))"
   ]
  },
  {
   "cell_type": "code",
   "execution_count": 22,
   "id": "13731cef",
   "metadata": {},
   "outputs": [
    {
     "name": "stdout",
     "output_type": "stream",
     "text": [
      "The Upper CI is: 43.6412\n"
     ]
    }
   ],
   "source": [
    "# confidence interval for the old machine\n",
    "upperCI = old_mean + absoluteZ*old_std/np.sqrt(n-1)\n",
    "print('The Upper CI is:', round(upperCI,4))"
   ]
  },
  {
   "cell_type": "code",
   "execution_count": 23,
   "id": "51287df1",
   "metadata": {},
   "outputs": [
    {
     "name": "stdout",
     "output_type": "stream",
     "text": [
      "The Lower CI is: 42.8188\n"
     ]
    }
   ],
   "source": [
    "lowerCI = old_mean - absoluteZ*old_std/math.sqrt(n-1)\n",
    "print('The Lower CI is:', round(lowerCI,4))"
   ]
  },
  {
   "cell_type": "markdown",
   "id": "50bea81d",
   "metadata": {},
   "source": [
    "# 8.Conclusions"
   ]
  },
  {
   "cell_type": "markdown",
   "id": "a15270fe",
   "metadata": {},
   "source": [
    "**T-statistic (-3.39) < T-critical (-1.73)**\n",
    "\n",
    "Both machines work on different times\n",
    "\n",
    "The calculated t-statistic is not greater than the critical t-value\n",
    "\n",
    "Theres is evidence that the new machine is faster than the old one. \n"
   ]
  },
  {
   "cell_type": "markdown",
   "id": "b4debad2",
   "metadata": {},
   "source": [
    "# Apendix: other ways for calculating T-test & P-value"
   ]
  },
  {
   "cell_type": "code",
   "execution_count": 24,
   "id": "4b05094b",
   "metadata": {},
   "outputs": [],
   "source": [
    "from scipy.stats import ttest_1samp"
   ]
  },
  {
   "cell_type": "code",
   "execution_count": 25,
   "id": "03a652fd",
   "metadata": {},
   "outputs": [],
   "source": [
    "from statistics import pvariance \n",
    "from statistics import variance "
   ]
  },
  {
   "cell_type": "code",
   "execution_count": 26,
   "id": "27e1d071",
   "metadata": {},
   "outputs": [],
   "source": [
    "pooled_standard_deviation = 0.717441"
   ]
  },
  {
   "cell_type": "code",
   "execution_count": 27,
   "id": "51ede703",
   "metadata": {
    "scrolled": true
   },
   "outputs": [
    {
     "data": {
      "text/plain": [
       "Ttest_1sampResult(statistic=array([191.69237331, 179.30662739]), pvalue=array([1.45543303e-17, 2.65464518e-17]))"
      ]
     },
     "execution_count": 27,
     "metadata": {},
     "output_type": "execute_result"
    }
   ],
   "source": [
    "test_t = ttest_1samp(a=df, popmean=0.71)\n",
    "test_t"
   ]
  },
  {
   "cell_type": "code",
   "execution_count": 28,
   "id": "9cb56272",
   "metadata": {},
   "outputs": [
    {
     "name": "stdout",
     "output_type": "stream",
     "text": [
      "Population variance of Old Machine is: 0.51\n"
     ]
    }
   ],
   "source": [
    "#calculate pop sample variance\n",
    "pop_variance_om = pvariance(df['oldmachine'])\n",
    "print('Population variance of Old Machine is:', round(pop_variance_om,2))"
   ]
  },
  {
   "cell_type": "code",
   "execution_count": 29,
   "id": "89f950d8",
   "metadata": {},
   "outputs": [
    {
     "name": "stdout",
     "output_type": "stream",
     "text": [
      "Population variance of New Machine is: 0.42\n"
     ]
    }
   ],
   "source": [
    "#calculate pop sample variance\n",
    "pop_variance_nm = pvariance(df['newmachine'])\n",
    "print('Population variance of New Machine is:', round(pop_variance_nm,2))"
   ]
  },
  {
   "cell_type": "code",
   "execution_count": 30,
   "id": "5faa51c7",
   "metadata": {},
   "outputs": [
    {
     "data": {
      "text/plain": [
       "0.21612753436596469"
      ]
     },
     "execution_count": 30,
     "metadata": {},
     "output_type": "execute_result"
    }
   ],
   "source": [
    "sample1 = df.std()['newmachine']/np.sqrt(new_n)\n",
    "sample1"
   ]
  },
  {
   "cell_type": "code",
   "execution_count": 31,
   "id": "db0ff431",
   "metadata": {},
   "outputs": [
    {
     "data": {
      "text/plain": [
       "0.2371356854910985"
      ]
     },
     "execution_count": 31,
     "metadata": {},
     "output_type": "execute_result"
    }
   ],
   "source": [
    "sample2 = df.std()['oldmachine']/np.sqrt(old_n)\n",
    "sample2"
   ]
  },
  {
   "cell_type": "code",
   "execution_count": 32,
   "id": "1509229d",
   "metadata": {},
   "outputs": [
    {
     "data": {
      "text/plain": [
       "0.3208495666888837"
      ]
     },
     "execution_count": 32,
     "metadata": {},
     "output_type": "execute_result"
    }
   ],
   "source": [
    "sed = np.sqrt((sample1**2) + (sample2**2))\n",
    "sed"
   ]
  },
  {
   "cell_type": "code",
   "execution_count": 33,
   "id": "f036c2ed",
   "metadata": {},
   "outputs": [
    {
     "name": "stdout",
     "output_type": "stream",
     "text": [
      "T-statistic is: -3.3972\n"
     ]
    }
   ],
   "source": [
    "# finale t stat\n",
    "t_stat =(df.mean()['newmachine'] - df.mean()['oldmachine'])/sed\n",
    "print('T-statistic is:', round(t_stat,4))"
   ]
  },
  {
   "cell_type": "code",
   "execution_count": 34,
   "id": "e6edc8b2",
   "metadata": {},
   "outputs": [
    {
     "data": {
      "text/plain": [
       "0.0032111425007745158"
      ]
     },
     "execution_count": 34,
     "metadata": {},
     "output_type": "execute_result"
    }
   ],
   "source": [
    "# calculate p value \n",
    "t_dist = t(DOF)\n",
    "2 * t_dist.cdf(t_stat)"
   ]
  },
  {
   "cell_type": "code",
   "execution_count": 35,
   "id": "c79e686d",
   "metadata": {},
   "outputs": [
    {
     "name": "stdout",
     "output_type": "stream",
     "text": [
      "T-statistic is: -3.3972 \n",
      " P-value is: 0.0032\n"
     ]
    }
   ],
   "source": [
    "# short way to calculate the t-stat and p-value with given formula\n",
    "t_stat, p_val = stats.ttest_ind(df['newmachine'], df['oldmachine'], equal_var=True)\n",
    "print('T-statistic is:', round(t_stat,4),'\\n','P-value is:', round(p_val,4))"
   ]
  }
 ],
 "metadata": {
  "kernelspec": {
   "display_name": "Python 3 (ipykernel)",
   "language": "python",
   "name": "python3"
  },
  "language_info": {
   "codemirror_mode": {
    "name": "ipython",
    "version": 3
   },
   "file_extension": ".py",
   "mimetype": "text/x-python",
   "name": "python",
   "nbconvert_exporter": "python",
   "pygments_lexer": "ipython3",
   "version": "3.9.7"
  }
 },
 "nbformat": 4,
 "nbformat_minor": 5
}
