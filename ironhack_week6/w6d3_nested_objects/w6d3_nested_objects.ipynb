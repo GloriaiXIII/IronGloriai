{
 "cells": [
  {
   "cell_type": "markdown",
   "id": "b1dc2c15",
   "metadata": {},
   "source": [
    "## Creating a nested list of our classroom"
   ]
  },
  {
   "cell_type": "code",
   "execution_count": 1,
   "id": "ccdb0fcf",
   "metadata": {},
   "outputs": [
    {
     "name": "stdout",
     "output_type": "stream",
     "text": [
      "Sians class consists of: [['Zac', 'Thomas', 'Misho', 'Virgilio'], ['Kofi', 'Ummuhan', 'Pol', 'Maz', 'Simon'], ['Zeyad', 'Yamila', 'Arne', 'Luis', 'Gloria']]\n"
     ]
    }
   ],
   "source": [
    "# create a list\n",
    "sians_class = [['Zac','Thomas', 'Misho','Virgilio'],['Kofi','Ummuhan','Pol','Maz','Simon'],['Zeyad','Yamila','Arne','Luis','Gloria']]\n",
    "print(\"Sians class consists of:\", sians_class)"
   ]
  },
  {
   "cell_type": "code",
   "execution_count": 2,
   "id": "25793915",
   "metadata": {},
   "outputs": [
    {
     "data": {
      "text/plain": [
       "['Zac', 'Thomas', 'Misho', 'Virgilio']"
      ]
     },
     "execution_count": 2,
     "metadata": {},
     "output_type": "execute_result"
    }
   ],
   "source": [
    "# show the first group\n",
    "sians_class[0]"
   ]
  },
  {
   "cell_type": "code",
   "execution_count": 3,
   "id": "1c3d0099",
   "metadata": {},
   "outputs": [
    {
     "data": {
      "text/plain": [
       "'Kofi'"
      ]
     },
     "execution_count": 3,
     "metadata": {},
     "output_type": "execute_result"
    }
   ],
   "source": [
    "# show the first person of the second group\n",
    "sians_class[1][0]"
   ]
  },
  {
   "cell_type": "code",
   "execution_count": 4,
   "id": "1603fe80",
   "metadata": {},
   "outputs": [
    {
     "data": {
      "text/plain": [
       "'K'"
      ]
     },
     "execution_count": 4,
     "metadata": {},
     "output_type": "execute_result"
    }
   ],
   "source": [
    "# show the first letter of the first person of the second group\n",
    "sians_class[1][0][0]"
   ]
  },
  {
   "cell_type": "code",
   "execution_count": 5,
   "id": "f5c5bae8",
   "metadata": {},
   "outputs": [
    {
     "data": {
      "text/plain": [
       "[[['Albert_Carme', ['Albert', 'Josep', 'Jaume']],\n",
       "  ['Laura_Josep', ['Laura', 'Jordi', 'Josep']],\n",
       "  ['Rosa_Manel', ['David', 'Quim']],\n",
       "  [['Laura_Albert', ['Glòria', 'Albert']],\n",
       "   ['David', ['Glòra', 'Marc', 'Anna']]]]]"
      ]
     },
     "execution_count": 5,
     "metadata": {},
     "output_type": "execute_result"
    }
   ],
   "source": [
    "# create a nested list of your family tree\n",
    "my_family_tree = [[['Albert_Carme',['Albert','Josep','Jaume']],['Laura_Josep',['Laura','Jordi','Josep']],['Rosa_Manel',['David','Quim']],[['Laura_Albert',['Glòria','Albert']],['David',['Glòra','Marc','Anna']]]]]\n",
    "my_family_tree"
   ]
  },
  {
   "cell_type": "markdown",
   "id": "3f903c0d",
   "metadata": {},
   "source": [
    "## Dictionaires"
   ]
  },
  {
   "cell_type": "code",
   "execution_count": 6,
   "id": "b3003050",
   "metadata": {},
   "outputs": [
    {
     "data": {
      "text/plain": [
       "{1: {'color': 'blue', 'shape': 'circle', 'sides': 0},\n",
       " 2: {'color': 'red', 'shape': 'square', 'sides': 4},\n",
       " 3: {'color': 'yellow', 'shape': 'triangle', 'sides': 3}}"
      ]
     },
     "execution_count": 6,
     "metadata": {},
     "output_type": "execute_result"
    }
   ],
   "source": [
    "shapes = {1:{'color':'blue','shape':'circle','sides':0},\n",
    "         2:{'color':'red','shape':'square','sides':4},\n",
    "         3:{'color':'yellow','shape':'triangle','sides':3}}\n",
    "shapes"
   ]
  },
  {
   "cell_type": "code",
   "execution_count": 7,
   "id": "cd7ecb7a",
   "metadata": {},
   "outputs": [
    {
     "data": {
      "text/plain": [
       "'circle'"
      ]
     },
     "execution_count": 7,
     "metadata": {},
     "output_type": "execute_result"
    }
   ],
   "source": [
    "shapes[1]['shape']"
   ]
  },
  {
   "cell_type": "markdown",
   "id": "870396e9",
   "metadata": {},
   "source": [
    "## Json files"
   ]
  },
  {
   "cell_type": "code",
   "execution_count": 8,
   "id": "89166016",
   "metadata": {},
   "outputs": [],
   "source": [
    "import json"
   ]
  },
  {
   "cell_type": "code",
   "execution_count": 9,
   "id": "0b41d17a",
   "metadata": {},
   "outputs": [],
   "source": [
    "with open('sample4.json') as f:\n",
    "    data = json.load(f)"
   ]
  },
  {
   "cell_type": "code",
   "execution_count": 10,
   "id": "70dd5075",
   "metadata": {},
   "outputs": [
    {
     "data": {
      "text/plain": [
       "{'people': [{'firstName': 'Joe',\n",
       "   'lastName': 'Jackson',\n",
       "   'gender': 'male',\n",
       "   'age': 28,\n",
       "   'number': '7349282382'},\n",
       "  {'firstName': 'James',\n",
       "   'lastName': 'Smith',\n",
       "   'gender': 'male',\n",
       "   'age': 32,\n",
       "   'number': '5678568567'},\n",
       "  {'firstName': 'Emily',\n",
       "   'lastName': 'Jones',\n",
       "   'gender': 'female',\n",
       "   'age': 24,\n",
       "   'number': '456754675'}]}"
      ]
     },
     "execution_count": 10,
     "metadata": {},
     "output_type": "execute_result"
    }
   ],
   "source": [
    "data"
   ]
  },
  {
   "cell_type": "markdown",
   "id": "514ff0cc",
   "metadata": {},
   "source": [
    "The file is a dictionary inside a list inside a nested dictionary"
   ]
  },
  {
   "cell_type": "markdown",
   "id": "02649245",
   "metadata": {},
   "source": [
    "**Json prettify example:** <img src=\"json_prettify_ex.png\" width=400 height=400 />"
   ]
  },
  {
   "cell_type": "code",
   "execution_count": 12,
   "id": "0e43369d",
   "metadata": {},
   "outputs": [
    {
     "name": "stdout",
     "output_type": "stream",
     "text": [
      "{\n",
      "  \"people\": [\n",
      "    {\n",
      "      \"firstName\": \"Joe\",\n",
      "      \"lastName\": \"Jackson\",\n",
      "      \"gender\": \"male\",\n",
      "      \"age\": 28,\n",
      "      \"number\": \"7349282382\"\n",
      "    },\n",
      "    {\n",
      "      \"firstName\": \"James\",\n",
      "      \"lastName\": \"Smith\",\n",
      "      \"gender\": \"male\",\n",
      "      \"age\": 32,\n",
      "      \"number\": \"5678568567\"\n",
      "    },\n",
      "    {\n",
      "      \"firstName\": \"Emily\",\n",
      "      \"lastName\": \"Jones\",\n",
      "      \"gender\": \"female\",\n",
      "      \"age\": 24,\n",
      "      \"number\": \"456754675\"\n",
      "    }\n",
      "  ]\n",
      "}\n"
     ]
    }
   ],
   "source": [
    "#prettify \n",
    "json_formatted_str =json.dumps(data, indent=2)\n",
    "print(json_formatted_str)"
   ]
  },
  {
   "cell_type": "code",
   "execution_count": 19,
   "id": "5ad32218",
   "metadata": {},
   "outputs": [
    {
     "data": {
      "text/plain": [
       "'5678568567'"
      ]
     },
     "execution_count": 19,
     "metadata": {},
     "output_type": "execute_result"
    }
   ],
   "source": [
    "# print the number of the second person in the dict people\n",
    "data['people'][1]['number']"
   ]
  },
  {
   "cell_type": "code",
   "execution_count": 24,
   "id": "e272f646",
   "metadata": {},
   "outputs": [
    {
     "data": {
      "text/plain": [
       "'Joe'"
      ]
     },
     "execution_count": 24,
     "metadata": {},
     "output_type": "execute_result"
    }
   ],
   "source": [
    "data['people'][0]['firstName']"
   ]
  },
  {
   "cell_type": "code",
   "execution_count": 35,
   "id": "34cf4627",
   "metadata": {},
   "outputs": [],
   "source": [
    "# for loop to iterate"
   ]
  },
  {
   "cell_type": "code",
   "execution_count": 37,
   "id": "23f73e0b",
   "metadata": {},
   "outputs": [
    {
     "name": "stdout",
     "output_type": "stream",
     "text": [
      "{'firstName': 'James', 'lastName': 'Smith', 'gender': 'male', 'age': 32, 'number': '5678568567'}\n"
     ]
    }
   ],
   "source": [
    "for i in data:\n",
    "  # display\n",
    "    print(data[i][1])"
   ]
  }
 ],
 "metadata": {
  "kernelspec": {
   "display_name": "Python 3 (ipykernel)",
   "language": "python",
   "name": "python3"
  },
  "language_info": {
   "codemirror_mode": {
    "name": "ipython",
    "version": 3
   },
   "file_extension": ".py",
   "mimetype": "text/x-python",
   "name": "python",
   "nbconvert_exporter": "python",
   "pygments_lexer": "ipython3",
   "version": "3.9.7"
  }
 },
 "nbformat": 4,
 "nbformat_minor": 5
}
